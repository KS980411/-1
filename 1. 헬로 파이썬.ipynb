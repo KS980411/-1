{
 "cells": [
  {
   "cell_type": "markdown",
   "id": "02011cb4",
   "metadata": {},
   "source": [
    "# 1장. 헬로 파이썬\n",
    "\n",
    "## 자료형\n",
    "\n",
    "파이썬에서는 type() 함수로 특정 데이터의 자료형을 알아볼 수 있다."
   ]
  },
  {
   "cell_type": "code",
   "execution_count": 8,
   "id": "ccb4de46",
   "metadata": {},
   "outputs": [
    {
     "data": {
      "text/plain": [
       "int"
      ]
     },
     "execution_count": 8,
     "metadata": {},
     "output_type": "execute_result"
    }
   ],
   "source": [
    "type(10)"
   ]
  },
  {
   "cell_type": "code",
   "execution_count": 9,
   "id": "05fb1a00",
   "metadata": {},
   "outputs": [
    {
     "data": {
      "text/plain": [
       "float"
      ]
     },
     "execution_count": 9,
     "metadata": {},
     "output_type": "execute_result"
    }
   ],
   "source": [
    "type(2.718)"
   ]
  },
  {
   "cell_type": "code",
   "execution_count": 10,
   "id": "bef63028",
   "metadata": {},
   "outputs": [
    {
     "data": {
      "text/plain": [
       "str"
      ]
     },
     "execution_count": 10,
     "metadata": {},
     "output_type": "execute_result"
    }
   ],
   "source": [
    "type(\"Hello\")"
   ]
  },
  {
   "cell_type": "markdown",
   "id": "4b95d325",
   "metadata": {},
   "source": [
    "10은 int(정수), 2.718은 float(실수), \"hello\"는 str(문자열)형임을 알 수 있다.\n",
    "자료형과 class을 같은 의미로 사용하는 경우도 많다.\n",
    "방금 예에서의 <class 'int'?는 \"10은 int라는 클래스(자료형)다\"로 해석하면 됨"
   ]
  },
  {
   "cell_type": "markdown",
   "id": "3ef129bc",
   "metadata": {},
   "source": [
    "## 변수\n",
    "\n",
    "x와 y 등의 알파벳을 사용하여 변수를 정의할 수 있다. 또한, 변수를 사용하여 계산하거나 변수에 다른 값을 대입할 수 있다."
   ]
  },
  {
   "cell_type": "code",
   "execution_count": 11,
   "id": "1e7690db",
   "metadata": {},
   "outputs": [
    {
     "name": "stdout",
     "output_type": "stream",
     "text": [
      "10\n"
     ]
    }
   ],
   "source": [
    "x = 10\n",
    "print(x)"
   ]
  },
  {
   "cell_type": "code",
   "execution_count": 12,
   "id": "613ee339",
   "metadata": {},
   "outputs": [
    {
     "name": "stdout",
     "output_type": "stream",
     "text": [
      "100\n"
     ]
    }
   ],
   "source": [
    "x = 100\n",
    "print(x)"
   ]
  },
  {
   "cell_type": "code",
   "execution_count": 13,
   "id": "eb0896e0",
   "metadata": {},
   "outputs": [
    {
     "data": {
      "text/plain": [
       "314.0"
      ]
     },
     "execution_count": 13,
     "metadata": {},
     "output_type": "execute_result"
    }
   ],
   "source": [
    "y = 3.14\n",
    "x * y"
   ]
  },
  {
   "cell_type": "code",
   "execution_count": 14,
   "id": "c2bea293",
   "metadata": {},
   "outputs": [
    {
     "data": {
      "text/plain": [
       "float"
      ]
     },
     "execution_count": 14,
     "metadata": {},
     "output_type": "execute_result"
    }
   ],
   "source": [
    "type(x * y)"
   ]
  },
  {
   "cell_type": "markdown",
   "id": "c54bfa09",
   "metadata": {},
   "source": [
    "파이썬은 동적 언어로 분류되는 프로그래밍 언어.\n",
    "동적이라 하는 것은 변수의 자료형을 상황에 맞게 자동으로 결정한다는 것이다. x의 자료형이 int라는 것을 사용자가 명시한 적은 없으나 10이라는 정수로 초기화될 때 x의 형태가 int임을 파이썬이 스스로 판단하는 것.\n",
    "\n",
    "* 정수와 실수를 곱하면 실수이다."
   ]
  },
  {
   "cell_type": "markdown",
   "id": "cd53e066",
   "metadata": {},
   "source": [
    "## 리스트\n",
    "\n",
    "여러 데이터를 리스트로 정리할 수 있음."
   ]
  },
  {
   "cell_type": "code",
   "execution_count": 3,
   "id": "b11f181a",
   "metadata": {},
   "outputs": [
    {
     "name": "stdout",
     "output_type": "stream",
     "text": [
      "[1, 2, 3, 4, 5]\n"
     ]
    }
   ],
   "source": [
    "a = [1,2,3,4,5] # R에서는 c()으로 벡터를 표시했는데, 여기서는 []으로 표시한다.\n",
    "print(a)"
   ]
  },
  {
   "cell_type": "code",
   "execution_count": 4,
   "id": "f1048ebb",
   "metadata": {},
   "outputs": [
    {
     "data": {
      "text/plain": [
       "5"
      ]
     },
     "execution_count": 4,
     "metadata": {},
     "output_type": "execute_result"
    }
   ],
   "source": [
    "len(a) # 리스트의 길이를 출력한다. R의 length와 대응."
   ]
  },
  {
   "cell_type": "code",
   "execution_count": 5,
   "id": "0086541d",
   "metadata": {},
   "outputs": [
    {
     "data": {
      "text/plain": [
       "1"
      ]
     },
     "execution_count": 5,
     "metadata": {},
     "output_type": "execute_result"
    }
   ],
   "source": [
    "a[0] # 첫 번째 원소를 0으로 취급한다."
   ]
  },
  {
   "cell_type": "code",
   "execution_count": 6,
   "id": "0a104007",
   "metadata": {},
   "outputs": [
    {
     "data": {
      "text/plain": [
       "5"
      ]
     },
     "execution_count": 6,
     "metadata": {},
     "output_type": "execute_result"
    }
   ],
   "source": [
    "a[4] # 다섯 번째 원소를 출력"
   ]
  },
  {
   "cell_type": "code",
   "execution_count": 7,
   "id": "94a56797",
   "metadata": {},
   "outputs": [
    {
     "name": "stdout",
     "output_type": "stream",
     "text": [
      "[1, 2, 3, 4, 99]\n"
     ]
    }
   ],
   "source": [
    "a[4] = 99 # index하고 값을 입력하는 것은 R과 비슷하다.\n",
    "print(a)"
   ]
  },
  {
   "cell_type": "markdown",
   "id": "eaf8d8e6",
   "metadata": {},
   "source": [
    "- []안의 수를 index라고 하며 index는 0부터 시작한다.\n",
    "- 파이썬 리스트에는 slicing이라는 기능이 준비되어 있어 이것을 이용하면 범위를 지정해 원하는 부분 리스트를 얻을 수 있다."
   ]
  },
  {
   "cell_type": "code",
   "execution_count": 8,
   "id": "6cfd637d",
   "metadata": {},
   "outputs": [
    {
     "name": "stdout",
     "output_type": "stream",
     "text": [
      "[1, 2, 3, 4, 99]\n"
     ]
    }
   ],
   "source": [
    "print(a)"
   ]
  },
  {
   "cell_type": "code",
   "execution_count": 9,
   "id": "0fed6660",
   "metadata": {},
   "outputs": [
    {
     "data": {
      "text/plain": [
       "[1, 2]"
      ]
     },
     "execution_count": 9,
     "metadata": {},
     "output_type": "execute_result"
    }
   ],
   "source": [
    "a[0:2] # 인덱스 0부터 2까지 얻기. 2는 포함되지 않음에 주의!!"
   ]
  },
  {
   "cell_type": "code",
   "execution_count": 10,
   "id": "eecf8802",
   "metadata": {},
   "outputs": [
    {
     "data": {
      "text/plain": [
       "[2, 3, 4, 99]"
      ]
     },
     "execution_count": 10,
     "metadata": {},
     "output_type": "execute_result"
    }
   ],
   "source": [
    "a[1:] # 인덱스 1부터 끝까지 얻기"
   ]
  },
  {
   "cell_type": "code",
   "execution_count": 11,
   "id": "a82b50ba",
   "metadata": {},
   "outputs": [
    {
     "data": {
      "text/plain": [
       "[1, 2, 3]"
      ]
     },
     "execution_count": 11,
     "metadata": {},
     "output_type": "execute_result"
    }
   ],
   "source": [
    "a[:3] # 처음부터 인덱스 3까지 얻기. 3(4번째 원소)는 포함하지 않음에 주의!"
   ]
  },
  {
   "cell_type": "code",
   "execution_count": 12,
   "id": "4f8f806d",
   "metadata": {},
   "outputs": [
    {
     "data": {
      "text/plain": [
       "[1, 2, 3, 4]"
      ]
     },
     "execution_count": 12,
     "metadata": {},
     "output_type": "execute_result"
    }
   ],
   "source": [
    "a[:-1] # 처음부터 마지막 원소의 1개 앞까지 얻기"
   ]
  },
  {
   "cell_type": "code",
   "execution_count": 13,
   "id": "cf26d430",
   "metadata": {},
   "outputs": [
    {
     "data": {
      "text/plain": [
       "[1, 2, 3]"
      ]
     },
     "execution_count": 13,
     "metadata": {},
     "output_type": "execute_result"
    }
   ],
   "source": [
    "a[:-2] # 처음부터 마지막 원소의 2개 앞까지 얻기"
   ]
  },
  {
   "cell_type": "markdown",
   "id": "8ed4ba60",
   "metadata": {},
   "source": [
    "- 인덱스 번호 -1은 마지막 원소, -2는 끝에서 한 개 앞의 원소에 해당한다.\n",
    "- R에서는 [:3]이라고 한다면 3번째 원소까지 출력이 되었지만, Python에서 [:3]이라고 한다면 4번째 원소를 포함하지 않는 3번쨰 원소까지를 출력한다.\n",
    "    - 1. 원소 번호가 다르다. Python은 0부터 시작하고, R에서는 1부터 시작한다.\n",
    "    - 2. index할 때 사용 방법이 다르다. Python은 마지막 포인트에 명시된 원소를 출력하지 않지만, R은 출력한다.\n",
    "    - 3. -의 활용 방법이 다르다. R에서는 -가 붙으면 이것을 빼라는 소리지만, Python은 '마지막 원소의 n개 앞까지'라는 의미에서 '-n'을 사용한다."
   ]
  },
  {
   "cell_type": "markdown",
   "id": "96bc66a6",
   "metadata": {},
   "source": [
    "## 딕셔너리\n",
    "\n",
    "리스트는 인덱스 번호로 0, 1, 2 ... 순으로 값을 저장하는 반면\n",
    "딕셔너리(dictionary)은 키와 값을 한 쌍으로 저장한다. 영한사전처럼 단어와 그 의미를 짝지어 저장한다."
   ]
  },
  {
   "cell_type": "code",
   "execution_count": 15,
   "id": "8340e9fb",
   "metadata": {},
   "outputs": [
    {
     "data": {
      "text/plain": [
       "180"
      ]
     },
     "execution_count": 15,
     "metadata": {},
     "output_type": "execute_result"
    }
   ],
   "source": [
    "me = {\"height\":180} # dictionary는 list와 다르게 {}을 사용한다.\n",
    "me[\"height\"]"
   ]
  },
  {
   "cell_type": "code",
   "execution_count": 16,
   "id": "a57305af",
   "metadata": {},
   "outputs": [],
   "source": [
    "me[\"weight\"] = 70 # dictionary도 원소 추가 가능. R과 비슷하게 원소명으로 찾을 수 있지만, 숫자로 저장을 하지 않기에 숫자로는 인덱싱을 못하는 듯?"
   ]
  },
  {
   "cell_type": "markdown",
   "id": "c53bf239",
   "metadata": {},
   "source": [
    "## Bool\n",
    "\n",
    "이 자료형은 논리형 연산자 (True or False)를 저장한다.\n",
    "Bool에는 and, or, not 연산자를 사용할 수 있음.\n",
    "\n",
    "수치용 연산자에는 +, -, *, /이 있듯이 자료형에 따라 사용할 수 있는 연산자가 정해져 있다."
   ]
  },
  {
   "cell_type": "code",
   "execution_count": 17,
   "id": "860c2100",
   "metadata": {},
   "outputs": [
    {
     "data": {
      "text/plain": [
       "bool"
      ]
     },
     "execution_count": 17,
     "metadata": {},
     "output_type": "execute_result"
    }
   ],
   "source": [
    "hungry = True\n",
    "sleepy = False\n",
    "type(hungry)"
   ]
  },
  {
   "cell_type": "code",
   "execution_count": 18,
   "id": "6c06aadd",
   "metadata": {},
   "outputs": [
    {
     "data": {
      "text/plain": [
       "False"
      ]
     },
     "execution_count": 18,
     "metadata": {},
     "output_type": "execute_result"
    }
   ],
   "source": [
    "not hungry # 배고프지 않다."
   ]
  },
  {
   "cell_type": "code",
   "execution_count": 19,
   "id": "32846032",
   "metadata": {},
   "outputs": [
    {
     "data": {
      "text/plain": [
       "False"
      ]
     },
     "execution_count": 19,
     "metadata": {},
     "output_type": "execute_result"
    }
   ],
   "source": [
    "hungry and sleepy # 배가 고프다, 그리고 졸리지 않다. "
   ]
  },
  {
   "cell_type": "code",
   "execution_count": 20,
   "id": "ddbbb25b",
   "metadata": {},
   "outputs": [
    {
     "data": {
      "text/plain": [
       "True"
      ]
     },
     "execution_count": 20,
     "metadata": {},
     "output_type": "execute_result"
    }
   ],
   "source": [
    "hungry or sleepy # 배가 고프다 또는 졸리지 않다."
   ]
  },
  {
   "cell_type": "markdown",
   "id": "ba829370",
   "metadata": {},
   "source": [
    "## if 문\n",
    "\n",
    "조건에 따라서 달리 처리하려면 if/else 문을 사용한다."
   ]
  },
  {
   "cell_type": "code",
   "execution_count": 21,
   "id": "57ce06fc",
   "metadata": {},
   "outputs": [
    {
     "name": "stdout",
     "output_type": "stream",
     "text": [
      "I'm hungry\n"
     ]
    }
   ],
   "source": [
    "hungry = True\n",
    "if hungry :\n",
    "    print (\"I'm hungry\")"
   ]
  },
  {
   "cell_type": "code",
   "execution_count": 29,
   "id": "63ea97a5",
   "metadata": {},
   "outputs": [
    {
     "name": "stdout",
     "output_type": "stream",
     "text": [
      "I'm not hungry\n",
      "I'm sleepy\n"
     ]
    }
   ],
   "source": [
    "hungry = False\n",
    "if hungry:\n",
    "     print(\"I'm hungry\")\n",
    "else: \n",
    "     print(\"I'm not hungry\") \n",
    "     print(\"I'm sleepy\") # if else 문은 if 조건 : ~해라, else : ~해라 식으로 쓴다."
   ]
  },
  {
   "cell_type": "markdown",
   "id": "adb7c860",
   "metadata": {},
   "source": [
    "파이썬에서 공백 문자는 상당히 중요한 의미를 가진다.\n",
    "\n",
    "if 문에도 if hungry: 다음 줄은 공백 문자 4개.\n",
    "이러한 들여쓰기는 지닌 조건(if hungry)이 충족될 때 실행되는 코드를 표현\n",
    "\n",
    "한 단계 더 쓸여 쓸 때마다 공백 4개를 더 추가하는 것이 일반적이다."
   ]
  },
  {
   "cell_type": "markdown",
   "id": "4066ce7e",
   "metadata": {},
   "source": [
    "## 파이썬 스크립트 파일"
   ]
  },
  {
   "cell_type": "markdown",
   "id": "3c6f1d19",
   "metadata": {},
   "source": [
    "## 클래스"
   ]
  },
  {
   "cell_type": "markdown",
   "id": "f0d38a8c",
   "metadata": {},
   "source": [
    "이번 절에서는 새로운 클래스를 정의한다.\n",
    "개발자가 직접 클래스를 정의하면 독자적인 자료형을 만들 수 있다.\n",
    "클래스에는 그 클래스만의 전용 함수와 속성을 정의할 수 있다. 클래스만의 전용 함수를 \"메소드\"라고 한다.\n",
    "인스턴스는 클래스를 실체화한 것으로, 하나의 클래스에 대응하는 여러 가지 인스턴스를 생성할 수 있다.\n",
    "[보충] 클래스는 데이터의 처리나 정의를 하나로 정리해준 모형과 같음. \n",
    "\n",
    "- 파이썬에서는 class라는 키워드를 사용하여 클래스를 정의한다.\n",
    "- __init__ : 클래스를 초기화하는 방법을 정의한다.\n",
    "- self : 첫 번째 인수로 자신(자신의 인스턴스)을 나타내는 self를 명시적으로 쓴다. 다른 언어와는 달리 자기 자신을 나타내는 self를 명시적으로 쓰는 것이 파이썬의 특징.\n",
    "\n",
    "[보충] __init__과 클래스에 대해서 잘 설명해 놓은 글이 있으니 참고해서 읽자\n",
    "https://engineer-mole.tistory.com/190\n",
    "\n",
    "- 기본형\n",
    "class 클래스 이름:\n",
    "    def __init__ (self, 인수 , ...): #생성자\n",
    "        ...\n",
    "    def method 이름 1(self, 인수, ...): # method 1\n",
    "        ...\n",
    "    def method 이름 2(self, 인수, ...): # method 2\n",
    "        ..."
   ]
  },
  {
   "cell_type": "code",
   "execution_count": 8,
   "id": "2183561a",
   "metadata": {},
   "outputs": [],
   "source": [
    "class Man:\n",
    "    def __init__(self, name): # 생성자, \":\"을 넣어주는 것을 잊지 말자. __init__의 첫 번째 인수에는 반드시 self가 들어가야 한다.\n",
    "        self.name = name # self.name을 name으로 정의해준다. 앞으로는 self.name만 쓸거다.\n",
    "        print(\"Initialized!\") # 결과로 나올 것을 표시한다. init은 클래스의 인스턴스가 만들어질 때 한 번만 불린다.\n",
    "    \n",
    "    def hello(self): # hello 메소드를 정의. 첫 번째 메소드다.\n",
    "        print(\"Hello \" + self.name + \"!\") # 메소드의 세부 방법을 정의\n",
    "        \n",
    "    def goodbye(self): # goodbye 메소드를 정의. 두 번재 메소드다.\n",
    "        print(\"Good-bye \" + self.name + \"!\") # 메소드의 세부 방법을 정의."
   ]
  },
  {
   "cell_type": "code",
   "execution_count": 11,
   "id": "8ab77796",
   "metadata": {},
   "outputs": [
    {
     "name": "stdout",
     "output_type": "stream",
     "text": [
      "Initialized!\n",
      "Hello David!\n",
      "Good-bye David!\n"
     ]
    }
   ],
   "source": [
    "m = Man(\"David\") # 인수를 정의했다. 우리의 목표는 \"Hello David!\", \"Good-bye David!\"를 뽑아내는 것.\n",
    "m.hello() # m이라는 인스턴스에 있는 메소드 \"hello\"를 호출한다.\n",
    "m.goodbye()"
   ]
  },
  {
   "cell_type": "markdown",
   "id": "5e121b8b",
   "metadata": {},
   "source": [
    "### 다른 예제\n",
    "\n",
    "age, name, height, weight를 정의하는 인스턴스를 생성하려고 한다."
   ]
  },
  {
   "cell_type": "code",
   "execution_count": 29,
   "id": "5262982f",
   "metadata": {},
   "outputs": [
    {
     "name": "stdout",
     "output_type": "stream",
     "text": [
      "KwangEun Cho\n"
     ]
    }
   ],
   "source": [
    "class example:\n",
    "    def __init__(self, name, age, weight, height):\n",
    "        self.name = name\n",
    "        self.age = age\n",
    "        self.weight = weight\n",
    "        self.height = height\n",
    "\n",
    "    def print_name(self):\n",
    "        print(self.name)\n",
    "        \n",
    "    def print_age(self):\n",
    "        print(self.age)\n",
    "        \n",
    "    def print_weight(self):\n",
    "        print(self.weight)\n",
    "        \n",
    "    def print_height(self):\n",
    "        print(self.height)\n",
    "        \n",
    "k = example(\"KwangEun Cho\", 24, 180, 80)\n",
    "k.print_name()\n",
    "k.print_age()\n",
    "k.print_height()\n",
    "k.print_weight()"
   ]
  },
  {
   "cell_type": "markdown",
   "id": "3b888106",
   "metadata": {},
   "source": [
    "노트 \n",
    " 1. 메소드에 name같은 정형화된 함수를 넣으면 오류가 발생한다. 겹치지 않도록 하거나 del ~으로 원래 함수를 지워주도록 하자.\n",
    " 2. init에 해당하는 것은 그냥 결과값 아무것도 안쓰고 넘겨도 된다. 함수의 구조를 확정한다는 식으로 이해하자.\n",
    " 3. def와 class에 \":\"을 꺽 써주어야 한다."
   ]
  },
  {
   "cell_type": "markdown",
   "id": "4be7456b",
   "metadata": {},
   "source": [
    "## 넘파이\n",
    "\n",
    "- 딥러닝을 구현하다 보면 배열이나 행렬 계산이 많이 등장하는데, 넘파이의 배열 클래스인 numpy.array을 사용하여 딥러닝 구현할 때 이 메서드들을 이용한다.\n",
    "- 여기서는 앞으로 사용하게 될 넘파이에 대해 언급한다.\n",
    "\n",
    "### 넘파이 가져오기\n",
    "\n",
    "- 넘파이는 외부 라이브러리다. 넘파이 라이브러리를 쓸 수 있도록 가져와야 한다.\n",
    "    - R의 install.packages(\"\")와 대응된다.\n",
    "    - 문법은 다르니 주의"
   ]
  },
  {
   "cell_type": "code",
   "execution_count": 31,
   "id": "7222742e",
   "metadata": {},
   "outputs": [],
   "source": [
    "import numpy as np # numpy를 np라는 이름으로 가져와라"
   ]
  },
  {
   "cell_type": "markdown",
   "id": "9d9d45e7",
   "metadata": {},
   "source": [
    "### 넘파이 배열 생성하기\n",
    "\n",
    "- 넘파이 배열을 만들 때에는 np.array() 메서드를 이용한다.\n",
    "- np.array()는 파이썬의 리스트를 인수로 받아 넘파이 라이브러리가 제공하는 특수한 형태의 배열로 반환한다."
   ]
  },
  {
   "cell_type": "code",
   "execution_count": 32,
   "id": "c9dde44c",
   "metadata": {},
   "outputs": [
    {
     "name": "stdout",
     "output_type": "stream",
     "text": [
      "[1. 2. 3.]\n"
     ]
    }
   ],
   "source": [
    "x = np.array([1.0, 2.0, 3.0]) # 리스트를 반환하므로 np.array에 들어갈 것은 []인 리스트이다.\n",
    "print(x)"
   ]
  },
  {
   "cell_type": "code",
   "execution_count": 33,
   "id": "0d633469",
   "metadata": {},
   "outputs": [
    {
     "data": {
      "text/plain": [
       "numpy.ndarray"
      ]
     },
     "execution_count": 33,
     "metadata": {},
     "output_type": "execute_result"
    }
   ],
   "source": [
    "type(x)"
   ]
  },
  {
   "cell_type": "markdown",
   "id": "ed4e23f8",
   "metadata": {},
   "source": [
    "### 넘파이의 산술 연산\n"
   ]
  },
  {
   "cell_type": "code",
   "execution_count": 34,
   "id": "f610bb87",
   "metadata": {},
   "outputs": [
    {
     "data": {
      "text/plain": [
       "array([3., 6., 9.])"
      ]
     },
     "execution_count": 34,
     "metadata": {},
     "output_type": "execute_result"
    }
   ],
   "source": [
    "x = np.array([1.0, 2.0, 3.0])\n",
    "y = np.array([2.0, 4.0, 6.0])\n",
    "x + y # 원소별 덧셈  "
   ]
  },
  {
   "cell_type": "code",
   "execution_count": 35,
   "id": "fc11d6d7",
   "metadata": {},
   "outputs": [
    {
     "data": {
      "text/plain": [
       "array([-1., -2., -3.])"
      ]
     },
     "execution_count": 35,
     "metadata": {},
     "output_type": "execute_result"
    }
   ],
   "source": [
    "x-y"
   ]
  },
  {
   "cell_type": "code",
   "execution_count": 36,
   "id": "2c0f0282",
   "metadata": {},
   "outputs": [
    {
     "data": {
      "text/plain": [
       "array([ 2.,  8., 18.])"
      ]
     },
     "execution_count": 36,
     "metadata": {},
     "output_type": "execute_result"
    }
   ],
   "source": [
    "x*y # 원소별 곱셈 "
   ]
  },
  {
   "cell_type": "code",
   "execution_count": 37,
   "id": "583e8143",
   "metadata": {},
   "outputs": [
    {
     "data": {
      "text/plain": [
       "array([0.5, 0.5, 0.5])"
      ]
     },
     "execution_count": 37,
     "metadata": {},
     "output_type": "execute_result"
    }
   ],
   "source": [
    "x/y "
   ]
  },
  {
   "cell_type": "markdown",
   "id": "8f859f36",
   "metadata": {},
   "source": [
    "- 대체로 R과 비슷하다\n",
    "- 주의할 점은 배열 x와 y의 원소 수가 같다는 것. 원소 수가 같다면 산술 연산은 각 원소에 대해서 행해짐\n",
    "- 원소 수가 다르면 오류가 발생하니 원소 수 맞추기가 중요함.\n",
    "\n",
    "- 넘파이 배열은 넘파이 배열과 스칼라값의 조합으로 된 산술 연산도 수행 가능\n",
    "    - 이 경우는 스칼라값과의 계산이 넘파이 배열의 원소별로 한 번 씩 수행된다.\n",
    "    - 이 기능을 브로드캐스트라고 함."
   ]
  },
  {
   "cell_type": "code",
   "execution_count": 40,
   "id": "d5a6eaab",
   "metadata": {},
   "outputs": [
    {
     "name": "stdout",
     "output_type": "stream",
     "text": [
      "[[1 2]\n",
      " [3 4]]\n"
     ]
    }
   ],
   "source": [
    "A = np.array([[1,2], [3,4]])\n",
    "print(A) # 2*2 매트릭스를 만들어 줄 때는 [[리스트 1], [리스트 2]] 이런 식으로 식을 만들어준다."
   ]
  },
  {
   "cell_type": "code",
   "execution_count": 41,
   "id": "0fbe4d1f",
   "metadata": {},
   "outputs": [
    {
     "data": {
      "text/plain": [
       "(2, 2)"
      ]
     },
     "execution_count": 41,
     "metadata": {},
     "output_type": "execute_result"
    }
   ],
   "source": [
    "A.shape"
   ]
  },
  {
   "cell_type": "code",
   "execution_count": 43,
   "id": "473ce905",
   "metadata": {},
   "outputs": [
    {
     "data": {
      "text/plain": [
       "dtype('int64')"
      ]
     },
     "execution_count": 43,
     "metadata": {},
     "output_type": "execute_result"
    }
   ],
   "source": [
    "A.dtype"
   ]
  },
  {
   "cell_type": "markdown",
   "id": "bcd1a09e",
   "metadata": {},
   "source": [
    "- 행렬의 형상은 \"shape\" (행렬의 dimension, R의 dim과 대응된다.\n",
    "- 행렬의 원소 자료는 \"dtype\"\n",
    "    - 모두 A라는 인스턴스 안에서 가져오는 것이므로 A.~으로 표현한다."
   ]
  },
  {
   "cell_type": "code",
   "execution_count": 47,
   "id": "2868f5c2",
   "metadata": {},
   "outputs": [
    {
     "data": {
      "text/plain": [
       "array([[ 4,  2],\n",
       "       [ 3, 10]])"
      ]
     },
     "execution_count": 47,
     "metadata": {},
     "output_type": "execute_result"
    }
   ],
   "source": [
    "B = np.array([[3,0], [0,6]])\n",
    "A + B "
   ]
  },
  {
   "cell_type": "code",
   "execution_count": 48,
   "id": "0e12062b",
   "metadata": {},
   "outputs": [
    {
     "data": {
      "text/plain": [
       "array([[ 3,  0],\n",
       "       [ 0, 24]])"
      ]
     },
     "execution_count": 48,
     "metadata": {},
     "output_type": "execute_result"
    }
   ],
   "source": [
    "A * B "
   ]
  },
  {
   "cell_type": "markdown",
   "id": "562a5a8b",
   "metadata": {},
   "source": [
    "- dimension이 같으면 행렬의 산술 연산도 대응하는 원소별로 계산된다.\n",
    "- 행렬과 스칼라 값의 계산도 가능\n",
    "    - 스칼라값이 넘파이 배열의 원소별로 한 번 씩 수행되는 브로드캐스트 기능이 작동한다."
   ]
  },
  {
   "cell_type": "code",
   "execution_count": 49,
   "id": "3dc30d02",
   "metadata": {},
   "outputs": [
    {
     "name": "stdout",
     "output_type": "stream",
     "text": [
      "[[1 2]\n",
      " [3 4]]\n"
     ]
    }
   ],
   "source": [
    "print(A)"
   ]
  },
  {
   "cell_type": "code",
   "execution_count": 50,
   "id": "c400dbf8",
   "metadata": {},
   "outputs": [
    {
     "data": {
      "text/plain": [
       "array([[10, 20],\n",
       "       [30, 40]])"
      ]
     },
     "execution_count": 50,
     "metadata": {},
     "output_type": "execute_result"
    }
   ],
   "source": [
    "A * 10 # 스칼라가 넘파이 배열의 원소 별로 한 번 씩 수행되는 것을 볼 수 있다."
   ]
  },
  {
   "cell_type": "markdown",
   "id": "b3143987",
   "metadata": {},
   "source": [
    "### 브로드캐스트\n",
    "\n",
    "- dimension이 다른 배열끼리도 계산할 수 있다.\n",
    "    - 앞에서 브로드캐스트 기능을 살펴보면, scalar가 10이면 2*2 행렬로 확대된다.\n",
    "    - 즉 scalar가 10이라고 한다면, 이 10이 np.array([[10,10] , [10,10]])으로 확대되어서 계산된다."
   ]
  },
  {
   "cell_type": "code",
   "execution_count": 51,
   "id": "efd90b79",
   "metadata": {},
   "outputs": [
    {
     "data": {
      "text/plain": [
       "array([[10, 40],\n",
       "       [30, 80]])"
      ]
     },
     "execution_count": 51,
     "metadata": {},
     "output_type": "execute_result"
    }
   ],
   "source": [
    "A = np.array([[1,2], [3,4]])\n",
    "B = np.array([10,20])\n",
    "A * B"
   ]
  },
  {
   "cell_type": "markdown",
   "id": "4e70e812",
   "metadata": {},
   "source": [
    "- 위와 같이 2x2 행렬과 2x1 벡터의 연산에도 똑같이 적용된다. (10,20)의 벡터가 브로드캐스트를 통해 늘어서 (10,20,10,20)을 원소로 가지는 2*2 행렬\n",
    "  이 된 것."
   ]
  },
  {
   "cell_type": "markdown",
   "id": "7009a128",
   "metadata": {},
   "source": [
    "### 원소 접근\n",
    "\n",
    "- 원소의 인덱스는 0부터 시작.\n",
    "- 각 원소에 접근하려면 다음과 같이 한다."
   ]
  },
  {
   "cell_type": "code",
   "execution_count": 53,
   "id": "e7d7fa7b",
   "metadata": {},
   "outputs": [
    {
     "name": "stdout",
     "output_type": "stream",
     "text": [
      "[[51 55]\n",
      " [14 19]\n",
      " [ 0  4]]\n"
     ]
    }
   ],
   "source": [
    "X = np.array([[51,55], [14,19], [0,4]])\n",
    "print(X)"
   ]
  },
  {
   "cell_type": "code",
   "execution_count": 54,
   "id": "de23735a",
   "metadata": {},
   "outputs": [
    {
     "data": {
      "text/plain": [
       "array([51, 55])"
      ]
     },
     "execution_count": 54,
     "metadata": {},
     "output_type": "execute_result"
    }
   ],
   "source": [
    "X[0] # X의 첫 번째 행을 추출한다."
   ]
  },
  {
   "cell_type": "code",
   "execution_count": 56,
   "id": "1cae49b6",
   "metadata": {},
   "outputs": [
    {
     "data": {
      "text/plain": [
       "array([[51, 55],\n",
       "       [14, 19]])"
      ]
     },
     "execution_count": 56,
     "metadata": {},
     "output_type": "execute_result"
    }
   ],
   "source": [
    "X[0:2]"
   ]
  },
  {
   "cell_type": "code",
   "execution_count": 57,
   "id": "436423d8",
   "metadata": {},
   "outputs": [
    {
     "data": {
      "text/plain": [
       "55"
      ]
     },
     "execution_count": 57,
     "metadata": {},
     "output_type": "execute_result"
    }
   ],
   "source": [
    "X[0][1] #(0,1) 위치의 원소. R에서는 [,]으로 했지만 파이썬에서는 [][] 이렇게 따로따로 해줘야 한다."
   ]
  },
  {
   "cell_type": "code",
   "execution_count": 60,
   "id": "e1ef47e5",
   "metadata": {},
   "outputs": [
    {
     "name": "stdout",
     "output_type": "stream",
     "text": [
      "[51 55]\n",
      "[14 19]\n",
      "[0 4]\n"
     ]
    }
   ],
   "source": [
    "for row in X:\n",
    "    print(row)"
   ]
  },
  {
   "cell_type": "code",
   "execution_count": 61,
   "id": "89130a4e",
   "metadata": {},
   "outputs": [
    {
     "name": "stdout",
     "output_type": "stream",
     "text": [
      "[51 55 14 19  0  4]\n"
     ]
    }
   ],
   "source": [
    "X = X.flatten() # X를 1차원 배열로 변환\n",
    "print(X)"
   ]
  },
  {
   "cell_type": "code",
   "execution_count": 62,
   "id": "b587506d",
   "metadata": {},
   "outputs": [
    {
     "data": {
      "text/plain": [
       "array([51, 14,  0])"
      ]
     },
     "execution_count": 62,
     "metadata": {},
     "output_type": "execute_result"
    }
   ],
   "source": [
    "X[np.array([0,2,4])] # 인덱스가 0, 2, 4인 원소 얻기 "
   ]
  },
  {
   "cell_type": "code",
   "execution_count": 63,
   "id": "52a6bbcb",
   "metadata": {},
   "outputs": [
    {
     "data": {
      "text/plain": [
       "array([ True,  True, False,  True, False, False])"
      ]
     },
     "execution_count": 63,
     "metadata": {},
     "output_type": "execute_result"
    }
   ],
   "source": [
    "X > 15"
   ]
  },
  {
   "cell_type": "code",
   "execution_count": 64,
   "id": "c6642529",
   "metadata": {},
   "outputs": [
    {
     "data": {
      "text/plain": [
       "array([51, 55, 19])"
      ]
     },
     "execution_count": 64,
     "metadata": {},
     "output_type": "execute_result"
    }
   ],
   "source": [
    "X[X>15] # 이렇게 인덱싱하는 것은 R보다 더 쉽다!"
   ]
  },
  {
   "cell_type": "markdown",
   "id": "a156e932",
   "metadata": {},
   "source": [
    "### matplotlib\n",
    "\n",
    "- 딥러닝 실험에서는 그래프 그리기와 데이터 시각화도 중요.\n",
    "    - matplotlib은 그래프를 그려주는 라이브러리.\n",
    "    - matplotlib을 사용하면 그래프 그리기와 데이터 시각화에 용이\n",
    "    \n",
    "- 그래프를 그릴 때는 matplotlib의 pyplot 모듈을 사용,\n",
    "    - 예시) sin 함수 그래프 그리기 "
   ]
  },
  {
   "cell_type": "code",
   "execution_count": 69,
   "id": "18cda939",
   "metadata": {},
   "outputs": [
    {
     "data": {
      "image/png": "[encoded data removed]",
      "text/plain": [
       "<Figure size 432x288 with 1 Axes>"
      ]
     },
     "metadata": {
      "needs_background": "light"
     },
     "output_type": "display_data"
    }
   ],
   "source": [
    "import numpy as np\n",
    "import matplotlib.pyplot as plt\n",
    "\n",
    "# 데이터 준비\n",
    "x = np.arange(0, 6, 0.1) # 0에서 6까지 0.1 간격으로 생성. R의 seq 함수와 대응. arrange가 아닌 arange임에 주의!\n",
    "y = np.sin(x)\n",
    "\n",
    "# 그래프 그리기\n",
    "plt.plot(x, y)\n",
    "plt.show()"
   ]
  },
  {
   "cell_type": "markdown",
   "id": "77b01d52",
   "metadata": {},
   "source": [
    "### pyplot의 기능\n",
    "\n",
    "cos 함수도 추가로 그려보자.\n",
    "제목과 각 축의 이름(레이블) 표시 등, pyplot의 다른 기능도 사용한다."
   ]
  },
  {
   "cell_type": "code",
   "execution_count": 72,
   "id": "0a67add9",
   "metadata": {},
   "outputs": [
    {
     "data": {
      "image/png": "[encoded data removed]",
      "text/plain": [
       "<Figure size 432x288 with 1 Axes>"
      ]
     },
     "metadata": {
      "needs_background": "light"
     },
     "output_type": "display_data"
    }
   ],
   "source": [
    "import numpy as np\n",
    "import matplotlib.pyplot as plt\n",
    "\n",
    "# 데이터 준비\n",
    "x = np.arange(0, 6 ,0.1)\n",
    "y1 = np.sin(x)\n",
    "y2 = np.cos(x)\n",
    "\n",
    "# 그래프 그리기\n",
    "plt.plot(x, y1, color = \"black\", label = \"sin\") # 플롯에 라벨이 붙는다는 점이 다르다.\n",
    "plt.plot(x, y2, linestyle = \"--\", label = \"cos\") # R plot 옵션의 linetype에 대응하는 것이 linestyle.\n",
    "plt.xlabel(\"x\") # ggplot2의 xlab에 해당된다.\n",
    "plt.ylabel(\"y\") # ggplot2의 ylab에 해당된다.\n",
    "plt.title(\"sin&cos\") # 제목 \n",
    "plt.legend() # 범례 추가\n",
    "plt.show()"
   ]
  },
  {
   "cell_type": "markdown",
   "id": "f9ac66ff",
   "metadata": {},
   "source": [
    "## 이미지 표시하기\n",
    "\n",
    "- pyplot에는 이미지를 표시해주는 메서드인 imshow도 있다. \n",
    "    - 이미지를 읽어들일 때는 matplotlib.image 모듈의 imread() 메서드를 이용 "
   ]
  },
  {
   "cell_type": "code",
   "execution_count": 82,
   "id": "5e2105a1",
   "metadata": {},
   "outputs": [
    {
     "data": {
      "text/plain": [
       "'/Users/choeunsol/Python'"
      ]
     },
     "execution_count": 82,
     "metadata": {},
     "output_type": "execute_result"
    }
   ],
   "source": [
    "import numpy as np\n",
    "from matplotlib.image import imread # matplotlib.image에서 imread를 읽어주세요\n",
    "import os\n",
    "\n",
    "os.getcwd() # 작업 디렉토리 확인. R의 getwd()와 대응."
   ]
  },
  {
   "cell_type": "code",
   "execution_count": 81,
   "id": "b66d8684",
   "metadata": {},
   "outputs": [
    {
     "data": {
      "image/png": "[encoded data removed]",
      "text/plain": [
       "<Figure size 432x288 with 1 Axes>"
      ]
     },
     "metadata": {
      "needs_background": "light"
     },
     "output_type": "display_data"
    }
   ],
   "source": [
    "img = imread(\"cactus.png\")\n",
    "plt.imshow(img)\n",
    "plt.show()"
   ]
  }
 ],
 "metadata": {
  "kernelspec": {
   "display_name": "Python 3 (ipykernel)",
   "language": "python",
   "name": "python3"
  },
  "language_info": {
   "codemirror_mode": {
    "name": "ipython",
    "version": 3
   },
   "file_extension": ".py",
   "mimetype": "text/x-python",
   "name": "python",
   "nbconvert_exporter": "python",
   "pygments_lexer": "ipython3",
   "version": "3.9.12"
  }
 },
 "nbformat": 4,
 "nbformat_minor": 5
}
